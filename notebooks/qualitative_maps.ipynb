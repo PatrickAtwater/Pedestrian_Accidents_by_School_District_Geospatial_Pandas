{
 "cells": [
  {
   "cell_type": "code",
   "execution_count": null,
   "metadata": {},
   "outputs": [],
   "source": [
    "import matplotlib.pyplot as plt\n",
    "import geopandas as gpd\n",
    "\n",
    "%matplotlib inline"
   ]
  },
  {
   "cell_type": "markdown",
   "metadata": {},
   "source": [
    "#### `matplotlib.pyplot` is the plotting library underlying `pandas` plots and `geopandas` plots"
   ]
  },
  {
   "cell_type": "code",
   "execution_count": null,
   "metadata": {},
   "outputs": [],
   "source": [
    "school_districts = gpd.read_file('../data/school_districts.geojson')\n",
    "school_districts.head(2)"
   ]
  },
  {
   "cell_type": "markdown",
   "metadata": {},
   "source": [
    "### First plot the school districts with no polishing"
   ]
  },
  {
   "cell_type": "code",
   "execution_count": null,
   "metadata": {},
   "outputs": [],
   "source": [
    "school_districts.plot();"
   ]
  },
  {
   "cell_type": "markdown",
   "metadata": {},
   "source": [
    "### Next color the polygons according to the `district`\n",
    " - set the column argument = to a column in the dataset you want to color by (here we choose `district`)"
   ]
  },
  {
   "cell_type": "code",
   "execution_count": null,
   "metadata": {},
   "outputs": [],
   "source": [
    "school_districts.plot(column = 'district');"
   ]
  },
  {
   "cell_type": "markdown",
   "metadata": {},
   "source": [
    "### You can make the colors a bit calmer \n",
    " - to define distinct regions (which are categorical) you want a [qualitative colormap](https://matplotlib.org/3.1.0/tutorials/colors/colormaps.html)"
   ]
  },
  {
   "cell_type": "code",
   "execution_count": null,
   "metadata": {},
   "outputs": [],
   "source": [
    "school_districts.plot(column = 'district', cmap = 'Set3');"
   ]
  },
  {
   "cell_type": "markdown",
   "metadata": {},
   "source": [
    "### To set `figsize()` you can add that argument to your call to `.plot()`"
   ]
  },
  {
   "cell_type": "code",
   "execution_count": null,
   "metadata": {},
   "outputs": [],
   "source": [
    "school_districts.plot(column = 'district', cmap = 'Set3', figsize = (8,8));"
   ]
  },
  {
   "cell_type": "markdown",
   "metadata": {},
   "source": [
    "### To perform further tweaking with more control we can switch to the syntax that uses `fig` and `ax`"
   ]
  },
  {
   "cell_type": "code",
   "execution_count": null,
   "metadata": {},
   "outputs": [],
   "source": [
    "fig, ax = plt.subplots(figsize = (10,10))\n",
    "school_districts.plot(ax = ax, column = 'district', cmap = 'Set3');"
   ]
  },
  {
   "cell_type": "markdown",
   "metadata": {},
   "source": [
    "### We can add a legend by passing in `legend = True` to `.plot()` "
   ]
  },
  {
   "cell_type": "code",
   "execution_count": null,
   "metadata": {},
   "outputs": [],
   "source": [
    "fig, ax = plt.subplots(figsize = (10,10))\n",
    "school_districts.plot(ax = ax, column = 'district', \n",
    "                      cmap = 'Set3', legend = True);"
   ]
  },
  {
   "cell_type": "markdown",
   "metadata": {},
   "source": [
    "#### Setting [`legend_kwds`](https://matplotlib.org/3.1.1/api/legend_api.html) allows you to style the legend and calling `plt.title()` adds a title."
   ]
  },
  {
   "cell_type": "code",
   "execution_count": null,
   "metadata": {},
   "outputs": [],
   "source": [
    "leg_kwds = {'title': 'School District', 'loc': 'best', \n",
    "            'bbox_to_anchor': (1, 1), 'ncol': 1}\n",
    "fig, ax = plt.subplots(figsize = (10,10))\n",
    "school_districts.plot(ax = ax, column = 'district', cmap = 'Set3', legend = True, \n",
    "                      legend_kwds = leg_kwds)\n",
    "plt.title('Nashville School Districts')\n",
    "plt.savefig('school_districts.png');"
   ]
  },
  {
   "cell_type": "markdown",
   "metadata": {},
   "source": [
    "### Another option if our regions are large enough is adding [annotate](https://matplotlib.org/3.1.1/api/_as_gen/matplotlib.pyplot.annotate.html) to the plot to label them\n",
    "#### We'll iterate through `school_districts` and use the `centroid` property of a `geometry` to put the label in the middle of each polygon"
   ]
  },
  {
   "cell_type": "code",
   "execution_count": null,
   "metadata": {},
   "outputs": [],
   "source": [
    "fig, ax = plt.subplots(figsize = (10,10))\n",
    "school_districts.plot(ax = ax, column = 'district', cmap = 'Set3')\n",
    "\n",
    "for index, row in school_districts.iterrows():\n",
    "    plt.annotate(text=row['district'], \n",
    "                 xy=(row['geometry'].centroid.x, row['geometry'].centroid.y),\n",
    "                 horizontalalignment='center', fontweight = 'bold')\n",
    "    \n",
    "plt.title('Nashville School Districts');"
   ]
  },
  {
   "cell_type": "markdown",
   "metadata": {},
   "source": [
    "### Other visualization libraries to check out:\n",
    " - [seaborn](https://seaborn.pydata.org/)\n",
    "     - [DataCamp tutorial](https://www.datacamp.com/community/tutorials/seaborn-python-tutorial)\n",
    " - [altair](https://altair-viz.github.io/)\n",
    "     - [Jake Vanderplas tutorial](https://github.com/altair-viz/altair-tutorial)"
   ]
  },
  {
   "cell_type": "markdown",
   "metadata": {},
   "source": [
    "### Slide deck on [the grammar of graphics](https://www.slideshare.net/DaryaVanichkina1/grammar-of-graphics-darya-vanichkina)"
   ]
  }
 ],
 "metadata": {
  "kernelspec": {
   "display_name": "Python 3",
   "language": "python",
   "name": "python3"
  },
  "language_info": {
   "codemirror_mode": {
    "name": "ipython",
    "version": 3
   },
   "file_extension": ".py",
   "mimetype": "text/x-python",
   "name": "python",
   "nbconvert_exporter": "python",
   "pygments_lexer": "ipython3",
   "version": "3.8.5"
  }
 },
 "nbformat": 4,
 "nbformat_minor": 2
}
